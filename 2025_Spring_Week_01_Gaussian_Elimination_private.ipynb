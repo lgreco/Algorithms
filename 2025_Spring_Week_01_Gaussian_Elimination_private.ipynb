{
  "nbformat": 4,
  "nbformat_minor": 0,
  "metadata": {
    "colab": {
      "provenance": [],
      "authorship_tag": "ABX9TyMLRJLwdgn6ZWqlScEN2ls1",
      "include_colab_link": true
    },
    "kernelspec": {
      "name": "python3",
      "display_name": "Python 3"
    },
    "language_info": {
      "name": "python"
    }
  },
  "cells": [
    {
      "cell_type": "markdown",
      "metadata": {
        "id": "view-in-github",
        "colab_type": "text"
      },
      "source": [
        "<a href=\"https://colab.research.google.com/github/lgreco/Algorithms/blob/master/2025_Spring_Week_01_Gaussian_Elimination_private.ipynb\" target=\"_parent\"><img src=\"https://colab.research.google.com/assets/colab-badge.svg\" alt=\"Open In Colab\"/></a>"
      ]
    },
    {
      "cell_type": "markdown",
      "source": [
        "# Gaussian elimination"
      ],
      "metadata": {
        "id": "wfHJajRSzunw"
      }
    },
    {
      "cell_type": "code",
      "execution_count": null,
      "metadata": {
        "id": "ac4SpyXJy7gZ"
      },
      "outputs": [],
      "source": [
        "def gauss_elimination(matrix):\n",
        "  # Process first row -- assume first element not zero\n",
        "  norm = matrix[0][0]\n",
        "  for j in range(len(matrix[0])):\n",
        "    matrix[0][j] /= norm\n",
        "  # Process remaining rows\n",
        "  for row in range(1, len(matrix)):\n",
        "    mult = matrix[row][row-1]\n",
        "    for j in range(row-1, len(matrix[row])):\n",
        "      matrix[row][j] -= mult*matrix[0][j]"
      ]
    },
    {
      "cell_type": "code",
      "source": [
        "test = [\n",
        "    [  2,   1,  -1,   8],\n",
        "    [ -3,  -1,   2, -11],\n",
        "    [ -2,   1,   2,  -3]\n",
        "]"
      ],
      "metadata": {
        "id": "zTJ7sKli0VIk"
      },
      "execution_count": null,
      "outputs": []
    },
    {
      "cell_type": "code",
      "source": [
        "gaussian_elimination(test)"
      ],
      "metadata": {
        "id": "-chylBqK0n8_"
      },
      "execution_count": null,
      "outputs": []
    },
    {
      "cell_type": "code",
      "source": [
        "test"
      ],
      "metadata": {
        "colab": {
          "base_uri": "https://localhost:8080/"
        },
        "id": "2Pe2wrHH0qLc",
        "outputId": "14b7eccf-37ac-4cc9-97dc-250880e25d74"
      },
      "execution_count": null,
      "outputs": [
        {
          "output_type": "execute_result",
          "data": {
            "text/plain": [
              "[[1.0, 0.5, -0.5, 4.0], [0.0, 0.5, 0.5, 1.0], [-2, 0.5, 2.5, -7.0]]"
            ]
          },
          "metadata": {},
          "execution_count": 8
        }
      ]
    },
    {
      "cell_type": "code",
      "source": [
        "def gaussian_elimination(coefficients, constants):\n",
        "  if (\n",
        "      len(coefficients) != len(coefficients[0])\n",
        "      or len(coefficients[0]) != len(constants)\n",
        "  ): return None\n",
        "  n = len(coefficients)\n",
        "  # Trivial case (1 eq, 1 unknown)\n",
        "  if n == 1:\n",
        "    if coefficients[0][0] != 0: return constants[0]/coefficients[0][0]\n",
        "    return None # divide by 0\n",
        "  # when n > 1 compose the augmented matrix\n",
        "  augmented = []\n",
        "  for i in range(n):\n",
        "    augmented.append(coefficients[i]+[constants[i]])\n",
        "  print(augmented)\n",
        "  for i in range(n):\n",
        "    pivot = augmented[i][i]\n",
        "    # Normalize row i\n",
        "    for j in range(n+1): #n+1 b/c augmented has an extra col\n",
        "      augmented[i][j] /= pivot\n",
        "    print(augmented)\n",
        "    # Eliminate column below [i][i]\n",
        "    for row in range(i+1, n):\n",
        "      for k in range(i, n+1): #n+1 b/c augmented has an extra col\n",
        "         augmented[row][k] = augmented[row][k] - augmented[row][i] * augmented[i][k]\n",
        "\n",
        "  print(augmented)\n",
        "\n",
        "\n",
        "coef = [[1,2,3],[4,5,6],[7,8,9]]\n",
        "cons = [10,11,12]\n",
        "gaussian_elimination(coef, cons)"
      ],
      "metadata": {
        "id": "RP2OmFN10q9U",
        "colab": {
          "base_uri": "https://localhost:8080/"
        },
        "outputId": "5c8f3823-8d07-4aab-9a1d-1b561e39aa1c"
      },
      "execution_count": 1,
      "outputs": [
        {
          "output_type": "stream",
          "name": "stdout",
          "text": [
            "[[1, 2, 3, 10], [4, 5, 6, 11], [7, 8, 9, 12]]\n",
            "[[1.0, 2.0, 3.0, 10.0], [4, 5, 6, 11], [7, 8, 9, 12]]\n",
            "[[1.0, 2.0, 3.0, 10.0], [0.0, 1.0, 1.2, 2.2], [0.0, 8.0, 9.0, 12.0]]\n",
            "[[1.0, 2.0, 3.0, 10.0], [0.0, 1.0, 1.2, 2.2], [0.0, 0.0, 1.0, 1.3333333333333333]]\n",
            "[[1.0, 2.0, 3.0, 10.0], [0.0, 1.0, 1.2, 2.2], [0.0, 0.0, 1.0, 1.3333333333333333]]\n"
          ]
        }
      ]
    },
    {
      "cell_type": "code",
      "source": [
        "A = [[ 1, 2, 3], [4,5,6]]\n",
        "B = [10,11]\n",
        "C = []\n",
        "for i in range(len(A)):\n",
        "  row = (A[i] + [B[i]])\n",
        "  C.append(row)"
      ],
      "metadata": {
        "id": "mlggqdeZ4k7i"
      },
      "execution_count": null,
      "outputs": []
    },
    {
      "cell_type": "code",
      "source": [
        "print(C)"
      ],
      "metadata": {
        "colab": {
          "base_uri": "https://localhost:8080/"
        },
        "id": "98tjQ5V26Tpr",
        "outputId": "39e934fa-9de9-4560-820f-f04747f42541"
      },
      "execution_count": null,
      "outputs": [
        {
          "output_type": "stream",
          "name": "stdout",
          "text": [
            "[[1, 2, 3, 10], [4, 5, 6, 11]]\n"
          ]
        }
      ]
    },
    {
      "cell_type": "code",
      "source": [],
      "metadata": {
        "id": "jkryq6J-7SwX"
      },
      "execution_count": null,
      "outputs": []
    }
  ]
}