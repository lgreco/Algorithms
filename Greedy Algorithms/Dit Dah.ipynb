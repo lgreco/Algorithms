{
 "cells": [
  {
   "cell_type": "markdown",
   "metadata": {},
   "source": [
    "# A simple prefix-free ternary code \n",
    "\n",
    "A simple ternary code uses three symbols to encode letters. For example, a ternary code may use {0, 1, space} or {., -, space} for the encoding. The space symbol is used to separate letters from each other. For example, if letter S is 000 and letter O is 111, the word \"SOS\" will appear as \"000 111 000\". Or, if you prefer the second representation, \"... --- ...\".\n",
    "\n",
    "The objective of a ternary code like this is to use as few symbols as possible to encode a message. In the example above, the code uses 11 symbols to encode the message \"SOS\". \n",
    "\n",
    "In ASCII (a binary, prefix-free code), the message SOS occupies 21 characters: \"101001110011111010011\", where each symbol is represented by seven binary digits. In this code, \"1010011\" is S and \"1001111\" is O.\n",
    "\n",
    "Codes like ASCII use the same number of digits for each letter. So the word \"BEEKEEPER\" in ASCII is 63 digits long:\n",
    "\n",
    "1000010 1000101 1000101 1001011 1000101 1000101 1010000 1000101 1010010\n",
    "\n",
    "(Spaces have been added above for clarity).\n",
    "\n",
    "Yet it may be possible to transmit the same word with fewer symbols is we used a prefix-free ternary code based on {0,1,space} (or {.,-,space}).\n",
    "\n",
    "Assuming that we only care to transmit the word BEEKEEPER, propose an encoding for letters B, E, K, P, and R to **achieve the shortest and fastest transmission.** Each letter can be encoded with any symbol(s) from the set {0,1} (or {., -}), with the third symbol (space) used as a separator. Take into consideration that it takes 0.1 millisecond to transmit a 0, and 0.3 milliseconds to transmit a 1.\n",
    "\n",
    "Then implement the encoding in a Python script, maybe a function, that will incode an input string (for now, just \"BEEKEEPER\") in 0s and 1s, separating the symbols for each letter with a space."
   ]
  },
  {
   "cell_type": "code",
   "execution_count": 2,
   "metadata": {},
   "outputs": [],
   "source": [
    "from binaryTree import Node\n",
    "from letterFrequencies import english_alphabet_frequencies"
   ]
  },
  {
   "cell_type": "code",
   "execution_count": 6,
   "metadata": {},
   "outputs": [],
   "source": [
    "#\n",
    "# Pseudocode for Huffman encoding\n",
    "#\n",
    "# init:        for each a in alphabet:\n",
    "#                 create single node tree for a, T(a)\n",
    "#                 compute p(a) from frequencies\n",
    "#              assemble forest F for all T(a)\n",
    "#              sort F in asc order by p(a)\n",
    "#\n",
    "# loop:        while F has at least two trees:\n",
    "#                 T1 = leftmost tree from F\n",
    "#                 T2 = next leftmost tree from F\n",
    "#                 remove T1, T2 from F\n",
    "#                 T3 = merge T1 as left, T2 as right\n",
    "#                 P(T3) = P(T1) + P(T2)\n",
    "#                 add T3 to F\n",
    "#               return F"
   ]
  },
  {
   "cell_type": "code",
   "execution_count": 10,
   "metadata": {},
   "outputs": [],
   "source": [
    "import queue"
   ]
  },
  {
   "cell_type": "code",
   "execution_count": 14,
   "metadata": {},
   "outputs": [
    {
     "ename": "TypeError",
     "evalue": "'<' not supported between instances of 'float' and 'tuple'",
     "output_type": "error",
     "traceback": [
      "\u001b[0;31m---------------------------------------------------------------------------\u001b[0m",
      "\u001b[0;31mTypeError\u001b[0m                                 Traceback (most recent call last)",
      "\u001b[0;32m<ipython-input-14-6eb047913b86>\u001b[0m in \u001b[0;36m<module>\u001b[0;34m\u001b[0m\n\u001b[1;32m     27\u001b[0m     \u001b[0;31m# the queue, with the appropriate \"weight\" which is the\u001b[0m\u001b[0;34m\u001b[0m\u001b[0;34m\u001b[0m\u001b[0;34m\u001b[0m\u001b[0m\n\u001b[1;32m     28\u001b[0m     \u001b[0;31m# sum of weights for left and right:\u001b[0m\u001b[0;34m\u001b[0m\u001b[0;34m\u001b[0m\u001b[0;34m\u001b[0m\u001b[0m\n\u001b[0;32m---> 29\u001b[0;31m     \u001b[0mour_priority_queue\u001b[0m\u001b[0;34m.\u001b[0m\u001b[0mput\u001b[0m\u001b[0;34m(\u001b[0m\u001b[0mleft\u001b[0m\u001b[0;34m[\u001b[0m\u001b[0;36m0\u001b[0m\u001b[0;34m]\u001b[0m\u001b[0;34m+\u001b[0m\u001b[0mright\u001b[0m\u001b[0;34m[\u001b[0m\u001b[0;36m0\u001b[0m\u001b[0;34m]\u001b[0m\u001b[0;34m,\u001b[0m \u001b[0mnew_node\u001b[0m\u001b[0;34m)\u001b[0m\u001b[0;34m\u001b[0m\u001b[0;34m\u001b[0m\u001b[0m\n\u001b[0m",
      "\u001b[0;32m~/anaconda3/lib/python3.7/queue.py\u001b[0m in \u001b[0;36mput\u001b[0;34m(self, item, block, timeout)\u001b[0m\n\u001b[1;32m    147\u001b[0m                             \u001b[0;32mraise\u001b[0m \u001b[0mFull\u001b[0m\u001b[0;34m\u001b[0m\u001b[0;34m\u001b[0m\u001b[0m\n\u001b[1;32m    148\u001b[0m                         \u001b[0mself\u001b[0m\u001b[0;34m.\u001b[0m\u001b[0mnot_full\u001b[0m\u001b[0;34m.\u001b[0m\u001b[0mwait\u001b[0m\u001b[0;34m(\u001b[0m\u001b[0mremaining\u001b[0m\u001b[0;34m)\u001b[0m\u001b[0;34m\u001b[0m\u001b[0;34m\u001b[0m\u001b[0m\n\u001b[0;32m--> 149\u001b[0;31m             \u001b[0mself\u001b[0m\u001b[0;34m.\u001b[0m\u001b[0m_put\u001b[0m\u001b[0;34m(\u001b[0m\u001b[0mitem\u001b[0m\u001b[0;34m)\u001b[0m\u001b[0;34m\u001b[0m\u001b[0;34m\u001b[0m\u001b[0m\n\u001b[0m\u001b[1;32m    150\u001b[0m             \u001b[0mself\u001b[0m\u001b[0;34m.\u001b[0m\u001b[0munfinished_tasks\u001b[0m \u001b[0;34m+=\u001b[0m \u001b[0;36m1\u001b[0m\u001b[0;34m\u001b[0m\u001b[0;34m\u001b[0m\u001b[0m\n\u001b[1;32m    151\u001b[0m             \u001b[0mself\u001b[0m\u001b[0;34m.\u001b[0m\u001b[0mnot_empty\u001b[0m\u001b[0;34m.\u001b[0m\u001b[0mnotify\u001b[0m\u001b[0;34m(\u001b[0m\u001b[0;34m)\u001b[0m\u001b[0;34m\u001b[0m\u001b[0;34m\u001b[0m\u001b[0m\n",
      "\u001b[0;32m~/anaconda3/lib/python3.7/queue.py\u001b[0m in \u001b[0;36m_put\u001b[0;34m(self, item)\u001b[0m\n\u001b[1;32m    231\u001b[0m \u001b[0;34m\u001b[0m\u001b[0m\n\u001b[1;32m    232\u001b[0m     \u001b[0;32mdef\u001b[0m \u001b[0m_put\u001b[0m\u001b[0;34m(\u001b[0m\u001b[0mself\u001b[0m\u001b[0;34m,\u001b[0m \u001b[0mitem\u001b[0m\u001b[0;34m)\u001b[0m\u001b[0;34m:\u001b[0m\u001b[0;34m\u001b[0m\u001b[0;34m\u001b[0m\u001b[0m\n\u001b[0;32m--> 233\u001b[0;31m         \u001b[0mheappush\u001b[0m\u001b[0;34m(\u001b[0m\u001b[0mself\u001b[0m\u001b[0;34m.\u001b[0m\u001b[0mqueue\u001b[0m\u001b[0;34m,\u001b[0m \u001b[0mitem\u001b[0m\u001b[0;34m)\u001b[0m\u001b[0;34m\u001b[0m\u001b[0;34m\u001b[0m\u001b[0m\n\u001b[0m\u001b[1;32m    234\u001b[0m \u001b[0;34m\u001b[0m\u001b[0m\n\u001b[1;32m    235\u001b[0m     \u001b[0;32mdef\u001b[0m \u001b[0m_get\u001b[0m\u001b[0;34m(\u001b[0m\u001b[0mself\u001b[0m\u001b[0;34m)\u001b[0m\u001b[0;34m:\u001b[0m\u001b[0;34m\u001b[0m\u001b[0;34m\u001b[0m\u001b[0m\n",
      "\u001b[0;31mTypeError\u001b[0m: '<' not supported between instances of 'float' and 'tuple'"
     ]
    }
   ],
   "source": [
    "#\n",
    "# queue \"our_priority_queue\" has all the tuples from\n",
    "# english_alphabet_frequencies, nicely sorted and\n",
    "# ready to use. In essence this **IS** our forest F.\n",
    "#\n",
    "\n",
    "our_priority_queue = queue.PriorityQueue();\n",
    "for letter in english_alphabet_frequencies:\n",
    "    our_priority_queue.put(letter)\n",
    "    \n",
    "# We can setup our loop now...\n",
    "# \n",
    "# While forest has at least two trees ...\n",
    "#   HOW can we count the number of trees in the forest?\n",
    "#   If our_priority_queue is the forest ...?\n",
    "\n",
    "while our_priority_queue.qsize() > 1 :\n",
    "    # now what?\n",
    "    # we want to obtain the two leftmost trees,\n",
    "    # ie, the first and second elements of this pqueue\n",
    "    left = our_priority_queue.get() # get returns and removes leftmost\n",
    "    right = our_priority_queue.get() # next leftmost now!\n",
    "    # what to do with left and right? \n",
    "    # These are trees T1 (left) and T2 (right) of the algorithm\n",
    "    new_node = Node(left, right) # Node comes from binaryTree module\n",
    "    # This new node is a tree that needs to go back to the\n",
    "    # the queue, with the appropriate \"weight\" which is the\n",
    "    # sum of weights for left and right:\n",
    "    our_priority_queue.put(left[0]+right[0], new_node)\n"
   ]
  },
  {
   "cell_type": "code",
   "execution_count": null,
   "metadata": {},
   "outputs": [],
   "source": []
  }
 ],
 "metadata": {
  "kernelspec": {
   "display_name": "Python 3",
   "language": "python",
   "name": "python3"
  },
  "language_info": {
   "codemirror_mode": {
    "name": "ipython",
    "version": 3
   },
   "file_extension": ".py",
   "mimetype": "text/x-python",
   "name": "python",
   "nbconvert_exporter": "python",
   "pygments_lexer": "ipython3",
   "version": "3.7.7"
  }
 },
 "nbformat": 4,
 "nbformat_minor": 4
}
