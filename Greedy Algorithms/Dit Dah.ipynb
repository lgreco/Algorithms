{
 "cells": [
  {
   "cell_type": "markdown",
   "metadata": {},
   "source": [
    "# A simple prefix-free ternary code \n",
    "\n",
    "A simple ternary code uses three symbols to encode letters. For example, a ternary code may use {0, 1, space} or {., -, space} for the encoding. The space symbol is used to separate letters from each other. For example, if letter S is 000 and letter O is 111, the word \"SOS\" will appear as \"000 111 000\". Or, if you prefer the second representation, \"... --- ...\".\n",
    "\n",
    "The objective of a ternary code like this is to use as few symbols as possible to encode a message. In the example above, the code uses 11 symbols to encode the message \"SOS\". \n",
    "\n",
    "In ASCII (a binary, prefix-free code), the message SOS occupies 21 characters: \"101001110011111010011\", where each symbol is represented by seven binary digits. In this code, \"1010011\" is S and \"1001111\" is O.\n",
    "\n",
    "Codes like ASCII use the same number of digits for each letter. So the word \"BEEKEEPER\" in ASCII is 63 digits long:\n",
    "\n",
    "1000010 1000101 1000101 1001011 1000101 1000101 1010000 1000101 1010010\n",
    "\n",
    "(Spaces have been added above for clarity).\n",
    "\n",
    "Yet it may be possible to transmit the same word with fewer symbols is we used a prefix-free ternary code based on {0,1,space} (or {.,-,space}).\n",
    "\n",
    "Assuming that we only care to transmit the word BEEKEEPER, propose an encoding for letters B, E, K, P, and R to **achieve the shortest and fastest transmission.** Each letter can be encoded with any symbol(s) from the set {0,1} (or {., -}), with the third symbol (space) used as a separator. Take into consideration that it takes 0.1 millisecond to transmit a 0, and 0.3 milliseconds to transmit a 1.\n",
    "\n",
    "Then implement the encoding in a Python script, maybe a function, that will incode an input string (for now, just \"BEEKEEPER\") in 0s and 1s, separating the symbols for each letter with a space."
   ]
  },
  {
   "cell_type": "code",
   "execution_count": 2,
   "metadata": {},
   "outputs": [],
   "source": [
    "from binaryTree import Node\n",
    "from letterFrequencies import english_alphabet_frequencies"
   ]
  },
  {
   "cell_type": "code",
   "execution_count": null,
   "metadata": {},
   "outputs": [],
   "source": [
    "#\n",
    "# Pseudocode for Huffman encoding\n",
    "#\n",
    "# init:        for each a in alphabet:\n",
    "#                 create single node tree for a, T(a)\n",
    "#                 compute p(a) from frequencies\n",
    "#              assemble forest F for all T(a)\n",
    "#              sort F in asc order by p(a)\n",
    "#\n",
    "# loop:        while F has at least two trees:\n",
    "#                 T1 = leftmost tree from F\n",
    "#                 T2 = next leftmost tree from F\n",
    "#                 remove T1, T2 from F\n",
    "#                 T3 = merge T1 as left, T2 as right\n",
    "#                 P(T3) = P(T1) + P(T2)\n",
    "#                 add T3 to F\n",
    "#               return F"
   ]
  }
 ],
 "metadata": {
  "kernelspec": {
   "display_name": "Python 3",
   "language": "python",
   "name": "python3"
  },
  "language_info": {
   "codemirror_mode": {
    "name": "ipython",
    "version": 3
   },
   "file_extension": ".py",
   "mimetype": "text/x-python",
   "name": "python",
   "nbconvert_exporter": "python",
   "pygments_lexer": "ipython3",
   "version": "3.7.7"
  }
 },
 "nbformat": 4,
 "nbformat_minor": 4
}
